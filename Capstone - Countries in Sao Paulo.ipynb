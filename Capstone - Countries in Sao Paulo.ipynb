{
    "cells": [
        {
            "cell_type": "markdown",
            "metadata": {
                "collapsed": true
            },
            "source": "# Capstone Project - The Battle of Neighborhoods"
        },
        {
            "cell_type": "markdown",
            "metadata": {},
            "source": "## Introduction: Business Problem"
        },
        {
            "cell_type": "markdown",
            "metadata": {},
            "source": "This project will use FourSquare restaurant data to try to identify regions of S\u00e3o Paulo city with more concentration of specific immigrants.\nThis initial study can be useful for the stakeholders to decide the best neighborhood for a new imported goods store, another type of restaurant of a cuisine, or the region to stay or live in Sao Paulo."
        },
        {
            "cell_type": "markdown",
            "metadata": {},
            "source": "Sao Paulo is a city formed by immigrants. Although some cuisines are more popular and spread around the city like Italian restaurants and Japanese restaurants, others are still more popular among its community. The study will focus on identifying these niches by locating groups of restaurants of the same category's family in an area of the city. "
        },
        {
            "cell_type": "markdown",
            "metadata": {},
            "source": "## Data"
        },
        {
            "cell_type": "markdown",
            "metadata": {},
            "source": "The study's search area will be limited by a radius of 10Km from the city center.\n\nFoursquare explore API call will be used and restricted to 'Food' categoryId ('4d4b7105d754a06374d81259').\n\nBased on the Foursquare [categories hierarchy](https://developer.foursquare.com/docs/build-with-foursquare/categories/) each cuisine group will be defined and Food venues that are not related to a country or specific regional cuisine will be removed, as well as venues from the 'Brazilian Restaurant' parent category.\n\nThe filtered restaurants will be clustered based on its cuisine and proximity of other restaurants with similar cuisine."
        },
        {
            "cell_type": "code",
            "execution_count": null,
            "metadata": {},
            "outputs": [],
            "source": ""
        }
    ],
    "metadata": {
        "kernelspec": {
            "display_name": "Python 3.6",
            "language": "python",
            "name": "python3"
        },
        "language_info": {
            "codemirror_mode": {
                "name": "ipython",
                "version": 3
            },
            "file_extension": ".py",
            "mimetype": "text/x-python",
            "name": "python",
            "nbconvert_exporter": "python",
            "pygments_lexer": "ipython3",
            "version": "3.6.9"
        }
    },
    "nbformat": 4,
    "nbformat_minor": 1
}